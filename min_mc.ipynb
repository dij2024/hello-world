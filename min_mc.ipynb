{
  "cells": [
    {
      "cell_type": "markdown",
      "metadata": {
        "id": "view-in-github",
        "colab_type": "text"
      },
      "source": [
        "<a href=\"https://colab.research.google.com/github/dij2024/hello-world/blob/main/min_mc.ipynb\" target=\"_parent\"><img src=\"https://colab.research.google.com/assets/colab-badge.svg\" alt=\"Open In Colab\"/></a>"
      ]
    },
    {
      "cell_type": "markdown",
      "metadata": {
        "id": "faYr5yEvnDCy"
      },
      "source": [
        "Before you turn this problem in, make sure everything runs as expected. First, **restart the kernel** (in the menubar, select Kernel$\\rightarrow$Restart) and then **run all cells** (in the menubar, select Cell$\\rightarrow$Run All).\n",
        "\n",
        "Make sure you fill in any place that says `YOUR CODE HERE` or \"YOUR ANSWER HERE\", as well as your name and collaborators below:"
      ]
    },
    {
      "cell_type": "code",
      "execution_count": 1,
      "metadata": {
        "id": "CoKK3LCqnDC0"
      },
      "outputs": [],
      "source": [
        "NAME = \"\"\n",
        "COLLABORATORS = \"\""
      ]
    },
    {
      "cell_type": "markdown",
      "metadata": {
        "id": "GiH-wdphnDC0"
      },
      "source": [
        "---"
      ]
    },
    {
      "cell_type": "markdown",
      "metadata": {
        "id": "uJ4dNRVwnDC1"
      },
      "source": [
        "# Basic Folding Algorithm\n",
        "Keywords: pose_from_sequence(), random move, scoring move, Metropolis, assign(), Pose()"
      ]
    },
    {
      "cell_type": "code",
      "execution_count": 2,
      "metadata": {
        "id": "GQSo40ujnDC1",
        "colab": {
          "base_uri": "https://localhost:8080/"
        },
        "outputId": "3b0c741b-e729-413d-f591-0d00232c404d"
      },
      "outputs": [
        {
          "output_type": "stream",
          "name": "stdout",
          "text": [
            "Collecting pyrosettacolabsetup\n",
            "  Downloading pyrosettacolabsetup-1.0.9-py3-none-any.whl (4.9 kB)\n",
            "Installing collected packages: pyrosettacolabsetup\n",
            "Successfully installed pyrosettacolabsetup-1.0.9\n",
            "Mounted at /content/google_drive\n",
            "\n",
            "Note that USE OF PyRosetta FOR COMMERCIAL PURPOSES REQUIRE PURCHASE OF A LICENSE.\n",
            "See https://github.com/RosettaCommons/rosetta/blob/main/LICENSE.md or email license@uw.edu for details.\n",
            "\n",
            "Looking for compatible PyRosetta wheel file at google-drive/PyRosetta/colab.bin//wheels...\n",
            "Found compatible wheel: /content/google_drive/MyDrive/PyRosetta/colab.bin/wheels//content/google_drive/MyDrive/PyRosetta/colab.bin/wheels/pyrosetta-2024.18+release.117e2f6f54-cp310-cp310-linux_x86_64.whl\n",
            "\n",
            "\n",
            "┌──────────────────────────────────────────────────────────────────────────────┐\n",
            "│                                 PyRosetta-4                                  │\n",
            "│              Created in JHU by Sergey Lyskov and PyRosetta Team              │\n",
            "│              (C) Copyright Rosetta Commons Member Institutions               │\n",
            "│                                                                              │\n",
            "│ NOTE: USE OF PyRosetta FOR COMMERCIAL PURPOSES REQUIRE PURCHASE OF A LICENSE │\n",
            "│         See LICENSE.PyRosetta.md or email license@uw.edu for details         │\n",
            "└──────────────────────────────────────────────────────────────────────────────┘\n",
            "PyRosetta-4 2024 [Rosetta PyRosetta4.MinSizeRel.python310.ubuntu 2024.18+release.117e2f6f543b0d8d153f6373eef96894a69791f5 2024-04-29T11:38:30] retrieved from: http://www.pyrosetta.org\n",
            "core.init: Checking for fconfig files in pwd and ./rosetta/flags\n",
            "core.init: Rosetta version: PyRosetta4.MinSizeRel.python310.ubuntu r380 2024.18+release.117e2f6f54 117e2f6f543b0d8d153f6373eef96894a69791f5 http://www.pyrosetta.org 2024-04-29T11:38:30\n",
            "core.init: Rosetta extras: []\n",
            "core.init: command: PyRosetta -ex1 -ex2aro -database /usr/local/lib/python3.10/dist-packages/pyrosetta/database\n",
            "basic.random.init_random_generator: 'RNG device' seed mode, using '/dev/urandom', seed=-1563130076 seed_offset=0 real_seed=-1563130076\n",
            "basic.random.init_random_generator: RandomGenerator:init: Normal mode, seed=-1563130076 RG_type=mt19937\n",
            "┌──────────────────────────────────────────────────────────────────────────────┐\n",
            "│                                 PyRosetta-4                                  │\n",
            "│              Created in JHU by Sergey Lyskov and PyRosetta Team              │\n",
            "│              (C) Copyright Rosetta Commons Member Institutions               │\n",
            "│                                                                              │\n",
            "│ NOTE: USE OF PyRosetta FOR COMMERCIAL PURPOSES REQUIRE PURCHASE OF A LICENSE │\n",
            "│         See LICENSE.PyRosetta.md or email license@uw.edu for details         │\n",
            "└──────────────────────────────────────────────────────────────────────────────┘\n",
            "PyRosetta-4 2024 [Rosetta PyRosetta4.MinSizeRel.python310.ubuntu 2024.18+release.117e2f6f543b0d8d153f6373eef96894a69791f5 2024-04-29T11:38:30] retrieved from: http://www.pyrosetta.org\n",
            "core.init: Checking for fconfig files in pwd and ./rosetta/flags\n",
            "core.init: Rosetta version: PyRosetta4.MinSizeRel.python310.ubuntu r380 2024.18+release.117e2f6f54 117e2f6f543b0d8d153f6373eef96894a69791f5 http://www.pyrosetta.org 2024-04-29T11:38:30\n",
            "core.init: Rosetta extras: []\n",
            "core.init: command: PyRosetta -ex1 -ex2aro -database /usr/local/lib/python3.10/dist-packages/pyrosetta/database\n",
            "basic.random.init_random_generator: 'RNG device' seed mode, using '/dev/urandom', seed=322640764 seed_offset=0 real_seed=322640764\n",
            "basic.random.init_random_generator: RandomGenerator:init: Normal mode, seed=322640764 RG_type=mt19937\n"
          ]
        }
      ],
      "source": [
        "!pip install pyrosettacolabsetup\n",
        "import pyrosettacolabsetup; pyrosettacolabsetup.install_pyrosetta()\n",
        "import pyrosetta; pyrosetta.init()\n",
        "from pyrosetta import *\n",
        "from pyrosetta.teaching import *\n",
        "init()"
      ]
    },
    {
      "cell_type": "code",
      "source": [
        "%cd /content/google_drive/MyDrive/Rosetta_REU"
      ],
      "metadata": {
        "colab": {
          "base_uri": "https://localhost:8080/"
        },
        "id": "R6Bki6ZqwhqE",
        "outputId": "99cc1e1d-7e63-4402-db31-d8034f9a1828"
      },
      "execution_count": 39,
      "outputs": [
        {
          "output_type": "stream",
          "name": "stdout",
          "text": [
            "/content/google_drive/MyDrive/Rosetta_REU\n"
          ]
        }
      ]
    },
    {
      "cell_type": "markdown",
      "metadata": {
        "id": "SevCT1UOnDC1"
      },
      "source": [
        "## Building the Pose"
      ]
    },
    {
      "cell_type": "markdown",
      "metadata": {
        "id": "igW8mcvanDC1"
      },
      "source": [
        "In this lab, you will be folding a 10 residue protein by building a simple de novo folding algorithm. Start by initializing PyRosetta as usual."
      ]
    },
    {
      "cell_type": "markdown",
      "metadata": {
        "id": "uZB-_VeDnDC1"
      },
      "source": [
        "Create a simple poly-alanine `pose` with 10 residues for testing your folding algorithm. Store the pose in a variable called \"polyA.\"\n",
        "\n",
        "Figure out how to set the pdb information of the \"polyA\" protein to have name \"polyA\""
      ]
    },
    {
      "cell_type": "code",
      "execution_count": 16,
      "metadata": {
        "deletable": false,
        "nbgrader": {
          "cell_type": "code",
          "checksum": "dc92af4c84322c255ab2d1fc670a45d7",
          "grade": true,
          "grade_id": "cell-e4c1f7f4858d8ee4",
          "locked": false,
          "points": 0,
          "schema_version": 3,
          "solution": true
        },
        "id": "2oGImqhunDC1"
      },
      "outputs": [],
      "source": [
        "# YOUR CODE HERE\n",
        "polyA = pyrosetta.pose_from_sequence(\"AAAAAAAAAA\", \"fa_standard\")\n",
        "\n",
        "# YOUR CODE HERE\n",
        "\n",
        "polyA.pdb_info().name(\"polyA\")"
      ]
    },
    {
      "cell_type": "markdown",
      "source": [
        "ensure that the sequence of the polyA sequence is what you expect"
      ],
      "metadata": {
        "id": "BXp3nyXovO3z"
      }
    },
    {
      "cell_type": "code",
      "source": [
        "# YOUR CODE HERE\n",
        "\n",
        "print(polyA)"
      ],
      "metadata": {
        "id": "B-4u2jDyvTcQ",
        "colab": {
          "base_uri": "https://localhost:8080/"
        },
        "outputId": "19a66126-b465-41d6-dd45-d75ff24c4b97"
      },
      "execution_count": 14,
      "outputs": [
        {
          "output_type": "stream",
          "name": "stdout",
          "text": [
            "PDB file name: polyA\n",
            "Total residues: 10\n",
            "Sequence: AAAAAAAAAA\n",
            "Fold tree:\n",
            "FOLD_TREE  EDGE 1 10 -1 \n"
          ]
        }
      ]
    },
    {
      "cell_type": "markdown",
      "metadata": {
        "id": "Kn2OdhOUnDC2"
      },
      "source": [
        "__Question:__\n",
        "Check the backbone dihedrals of a few residues (except the first and last) using the `.phi()` and `.psi()` methods in `Pose`. What are the values of $\\phi$ and $\\psi$ dihedrals? You should see ideal bond lengths and angles, but the dihedrals may not be as realistic. Also try to figure out why we can't get the backbone dihedrals of the first and last residues?"
      ]
    },
    {
      "cell_type": "code",
      "execution_count": 28,
      "metadata": {
        "deletable": false,
        "nbgrader": {
          "cell_type": "code",
          "checksum": "9739bef3d6136554ba0cecb4fa8344fb",
          "grade": true,
          "grade_id": "cell-8ff53305ceab1573",
          "locked": false,
          "points": 0,
          "schema_version": 3,
          "solution": true
        },
        "id": "yP1YP5RonDC2",
        "colab": {
          "base_uri": "https://localhost:8080/"
        },
        "outputId": "32f8e3dd-5a8d-4c70-cbd6-80411b9bf3d3"
      },
      "outputs": [
        {
          "output_type": "stream",
          "name": "stdout",
          "text": [
            "phi: 180\n",
            "psi: 180\n"
          ]
        }
      ],
      "source": [
        "# YOUR CODE HERE\n",
        "\n",
        "#pose.phi\n",
        "print(\"phi: %i\" %polyA.phi(10))\n",
        "print(\"psi: %i\" %polyA.psi(10))\n",
        "\n",
        "\n"
      ]
    },
    {
      "cell_type": "code",
      "source": [
        "#PyMOLMover()\n",
        "pmm.keep_history(True)"
      ],
      "metadata": {
        "id": "CWwyy_2JvOSn"
      },
      "execution_count": 30,
      "outputs": []
    },
    {
      "cell_type": "markdown",
      "metadata": {
        "id": "UiP2OAfanDC2"
      },
      "source": [
        "Use PyMOL to view the `polyA` `Pose`. You should see a long thread-like structure in PyMOL."
      ]
    },
    {
      "cell_type": "code",
      "execution_count": 40,
      "metadata": {
        "id": "QyM0gaqinDC2",
        "colab": {
          "base_uri": "https://localhost:8080/"
        },
        "outputId": "cfe925a6-2b86-4e69-fb3e-e42b754b881c"
      },
      "outputs": [
        {
          "output_type": "execute_result",
          "data": {
            "text/plain": [
              "True"
            ]
          },
          "metadata": {},
          "execution_count": 40
        }
      ],
      "source": [
        "# visualize the pose in PyMOL and save the screenshot to submit\n",
        "\n",
        "PyMOLMover().apply(polyA)\n",
        "\n",
        "polyA.dump_pdb(\"poly_Afile.pdb\")"
      ]
    },
    {
      "cell_type": "markdown",
      "metadata": {
        "id": "2YMdmWGEnDC2"
      },
      "source": [
        "## Building A Basic *de Novo* Folding Algorithm\n",
        "\n",
        "Now, write a program that implements a Monte Carlo algorithm to optimize the protein conformation. The algorithm will be very simple: make a random move, score the protein, and accept/reject the move based on the Metropolis criterion.\n",
        "\n",
        "Our main program will include 100 iterations of making a random trial move, scoring the protein, and accepting/rejecting the move. Therefore, we can break this algorithm down into three smaller subroutines: **random, score, and decision.**"
      ]
    },
    {
      "cell_type": "markdown",
      "metadata": {
        "id": "3j1f06iHnDC2"
      },
      "source": [
        "### Step 1: Random Move\n",
        "\n",
        "For the **random** trial move, write a subroutine to choose one residue at random using `random.randint()` and then randomly perturb either the φ or ψ angles by a random number chosen from a Gaussian distribution. Use the Python built-in function `random.gauss()` from the `random` library with a mean of the current angle and a standard deviation of 25°."
      ]
    },
    {
      "cell_type": "code",
      "execution_count": 59,
      "metadata": {
        "deletable": false,
        "nbgrader": {
          "cell_type": "code",
          "checksum": "c0e88c27592e4a00af92f92d6ddd12f4",
          "grade": true,
          "grade_id": "cell-745a45e62c624566",
          "locked": false,
          "points": 0,
          "schema_version": 3,
          "solution": true
        },
        "id": "ljuLFsN9nDC2"
      },
      "outputs": [],
      "source": [
        "import math\n",
        "import random\n",
        "\n",
        "def randTrial(polyA):\n",
        "  residue = random.randint((1,10)) #picks a random A\n",
        "  original_phi = polyA.phi(random.randint())\n",
        "  original_psi = polyA.psi(random.randint())\n",
        "  new_phi = random.gauss(polyA.phi(random.randint()), 25) #mean and standard dev, picks a random mean under the gauss distribution\n",
        "  new_psi = random.gauss(polyA.psi(random.randint(), 25))\n",
        "  polyA.set_phi(random.randint(residue, new_phi))\n",
        "  polyA.set_psi(random.randint(residue, new_psi))\n",
        "  pmm.apply(polyA)\n",
        "  return randTrial(polyA) #ends def\n",
        "\n",
        "\n",
        "\n"
      ]
    },
    {
      "cell_type": "markdown",
      "metadata": {
        "id": "-E7NA-7TnDC2"
      },
      "source": [
        "### Step 2: Scoring Move\n",
        "\n",
        "For the **scoring** step, we need to create a scoring function and make a subroutine that simply returns the numerical energy score of the pose."
      ]
    },
    {
      "cell_type": "markdown",
      "source": [
        "you may need to look back at the previous lab to recall how to get the score function\n",
        "\n",
        "You should try to use the standard full-atom (fa) ref2015 score function"
      ],
      "metadata": {
        "id": "ssgm8UDsqguG"
      }
    },
    {
      "cell_type": "code",
      "execution_count": 60,
      "metadata": {
        "deletable": false,
        "nbgrader": {
          "cell_type": "code",
          "checksum": "d8a586ebc3daa51b615abe7cc4777fad",
          "grade": true,
          "grade_id": "cell-bd1a937d32ede4e2",
          "locked": false,
          "points": 0,
          "schema_version": 3,
          "solution": true
        },
        "colab": {
          "base_uri": "https://localhost:8080/"
        },
        "id": "wL_MO63ZnDC2",
        "outputId": "93437064-44f8-4346-e203-d1f0fee2cce7"
      },
      "outputs": [
        {
          "output_type": "stream",
          "name": "stdout",
          "text": [
            "core.scoring.ScoreFunctionFactory: SCOREFUNCTION: ref2015\n",
            "core.scoring.etable: Starting energy table calculation\n",
            "core.scoring.etable: smooth_etable: changing atr/rep split to bottom of energy well\n",
            "core.scoring.etable: smooth_etable: spline smoothing lj etables (maxdis = 6)\n",
            "core.scoring.etable: smooth_etable: spline smoothing solvation etables (max_dis = 6)\n",
            "core.scoring.etable: Finished calculating energy tables.\n",
            "basic.io.database: Database file opened: scoring/score_functions/hbonds/ref2015_params/HBPoly1D.csv\n",
            "basic.io.database: Database file opened: scoring/score_functions/hbonds/ref2015_params/HBFadeIntervals.csv\n",
            "basic.io.database: Database file opened: scoring/score_functions/hbonds/ref2015_params/HBEval.csv\n",
            "basic.io.database: Database file opened: scoring/score_functions/hbonds/ref2015_params/DonStrength.csv\n",
            "basic.io.database: Database file opened: scoring/score_functions/hbonds/ref2015_params/AccStrength.csv\n",
            "basic.io.database: Database file opened: scoring/score_functions/rama/fd/all.ramaProb\n",
            "basic.io.database: Database file opened: scoring/score_functions/rama/fd/prepro.ramaProb\n",
            "basic.io.database: Database file opened: scoring/score_functions/omega/omega_ppdep.all.txt\n",
            "basic.io.database: Database file opened: scoring/score_functions/omega/omega_ppdep.gly.txt\n",
            "basic.io.database: Database file opened: scoring/score_functions/omega/omega_ppdep.pro.txt\n",
            "basic.io.database: Database file opened: scoring/score_functions/omega/omega_ppdep.valile.txt\n",
            "basic.io.database: Database file opened: scoring/score_functions/P_AA_pp/P_AA\n",
            "basic.io.database: Database file opened: scoring/score_functions/P_AA_pp/P_AA_n\n",
            "core.scoring.P_AA: shapovalov_lib::shap_p_aa_pp_smooth_level of 1( aka low_smooth ) got activated.\n",
            "basic.io.database: Database file opened: scoring/score_functions/P_AA_pp/shapovalov/10deg/kappa131/a20.prop\n"
          ]
        }
      ],
      "source": [
        "# DEFINE A SCORING FUNCTION, YOUR CODE HERE\n",
        "scorefx = get_score_function()\n",
        "\n",
        "def score(polyA):\n",
        "  return scorefx(polyA)"
      ]
    },
    {
      "cell_type": "markdown",
      "metadata": {
        "id": "PFDFcp4cnDC2"
      },
      "source": [
        "### Step 3: Accepting/Rejecting Move\n",
        "For the **decision** step, we need to make a subroutine that either accepts or rejects the new conformatuon based on the Metropolis criterion. The Metropolis criterion has a probability of accepting a move as $P = \\exp( -\\Delta G / kT )$. When $ΔE ≥ 0$ (in this case change in rosetta energy), the Metropolis criterion probability of accepting the move is $P = \\exp( -\\Delta G / kT )$. When $ΔE < 0$, the Metropolis criterion probability of accepting the move is $P = 1$. Use $kT = 1$ Rosetta Energy Unit (REU)."
      ]
    },
    {
      "cell_type": "code",
      "execution_count": 63,
      "metadata": {
        "deletable": false,
        "nbgrader": {
          "cell_type": "code",
          "checksum": "e379754cffceebdea48e26efae440f30",
          "grade": true,
          "grade_id": "cell-9f9766e421aae110",
          "locked": false,
          "points": 0,
          "schema_version": 3,
          "solution": true
        },
        "id": "XIsihMZPnDC2"
      },
      "outputs": [],
      "source": [
        "def decision(before_pose, after_pose):\n",
        "  E = scorefx(after_pose) - scorefx(before_pose)\n",
        "  if E < 0:\n",
        "    return after_pose\n",
        "  elif random.uniform(0,1) >= math.exp(-E/1): #random.uniform picks a random number between 0 and 1\n",
        "    return before_pose\n",
        "  else:\n",
        "    return after_pose\n",
        "\n",
        "\n",
        ""
      ]
    },
    {
      "cell_type": "markdown",
      "metadata": {
        "id": "UFQgK7TwnDC3"
      },
      "source": [
        "### Step 4: Execution\n",
        "Now we can put these three subroutines together in our main program! Write a loop in the main program so that it performs 100 iterations of: making a random trial move, scoring the protein, and accepting/rejecting the move.\n",
        "\n",
        "After each iteration of the search, output the current pose energy and the lowest energy ever observed. **The final output of this program should be the lowest energy conformation that is achieved at *any* point during the simulation.** Be sure to use `low_pose.assign(pose)` rather than `low_pose = pose`, since the latter will only copy a pointer to the original pose."
      ]
    },
    {
      "cell_type": "code",
      "execution_count": 64,
      "metadata": {
        "deletable": false,
        "nbgrader": {
          "cell_type": "code",
          "checksum": "4cf2cc30dd328bf93da671c237e300a7",
          "grade": true,
          "grade_id": "cell-2556d0daef881f24",
          "locked": false,
          "points": 0,
          "schema_version": 3,
          "solution": true
        },
        "id": "reC9YlvdnDC3"
      },
      "outputs": [],
      "source": [
        "low_pose = pose\n",
        "\n",
        "def basic_folding(polyA):\n",
        "  randTria"
      ]
    },
    {
      "cell_type": "markdown",
      "metadata": {
        "id": "VYJcHsmJnDC3"
      },
      "source": [
        "Finally, output the last pose and the lowest-scoring pose observed and view them in PyMOL (you'll need to dump the pose into a new pdb for this). Submit a screenshot of this.\n",
        "\n",
        "Plot the energy and lowest-energy observed vs. cycle number. What are the energies of the initial, last, and lowest-scoring pose? Is your program working? Has it converged to a good solution?\n"
      ]
    },
    {
      "cell_type": "code",
      "execution_count": null,
      "metadata": {
        "id": "RfCiL4wynDC3"
      },
      "outputs": [],
      "source": [
        "raise NotImplementedError()\n"
      ]
    },
    {
      "cell_type": "markdown",
      "metadata": {
        "id": "wjIQGIl_nDC3"
      },
      "source": [
        "### Exercise 1: Comparing to Alpha Helices\n",
        "Using the program you wrote previously, force the $A_{10}$ sequence into an ideal α-helix.\n",
        "\n",
        "**Questions:** Does this helical structure have a lower score than that produced by your folding algorithm above? What does this mean about your sampling or discrimination?"
      ]
    },
    {
      "cell_type": "code",
      "execution_count": null,
      "metadata": {
        "id": "NbFZS8X1nDC3"
      },
      "outputs": [],
      "source": [
        "# Answer the above questions here:\n",
        "\n",
        "# what are the ideal angles for an alpha-helix? force the protein to be an ideal alpha helix. compare it your lowest pose protein."
      ]
    },
    {
      "cell_type": "markdown",
      "metadata": {
        "id": "3OnUJbu3nDC3"
      },
      "source": [
        "### Exercise 2: Optimizing Algorithm\n",
        "Since your program is a stochastic search algorithm, it may not produce an ideal structure consistently, so try running the simulation multiple times or with a different number of cycles (if necessary). Using a kT of 1, your program may need to make up to 500,000 iterations."
      ]
    },
    {
      "cell_type": "code",
      "execution_count": null,
      "metadata": {
        "id": "AXhm1YLYnDC3"
      },
      "outputs": [],
      "source": [
        "# Report the lowest energy pose you found and the energy of that pose.\n",
        "# Dump this pose to a PDB file and visualize it in PyMOL. Submit a screenshot of the pose in PyMOL.\n",
        "\n",
        "raise NotImplementedError()"
      ]
    }
  ],
  "metadata": {
    "anaconda-cloud": {},
    "kernelspec": {
      "display_name": "Python 3",
      "language": "python",
      "name": "python3"
    },
    "language_info": {
      "codemirror_mode": {
        "name": "ipython",
        "version": 3
      },
      "file_extension": ".py",
      "mimetype": "text/x-python",
      "name": "python",
      "nbconvert_exporter": "python",
      "pygments_lexer": "ipython3",
      "version": "3.6.0"
    },
    "toc": {
      "base_numbering": 1,
      "nav_menu": {},
      "number_sections": true,
      "sideBar": true,
      "skip_h1_title": false,
      "title_cell": "Table of Contents",
      "title_sidebar": "Contents",
      "toc_cell": false,
      "toc_position": {
        "height": "calc(100% - 180px)",
        "left": "10px",
        "top": "150px",
        "width": "254.188px"
      },
      "toc_section_display": true,
      "toc_window_display": true
    },
    "colab": {
      "provenance": [],
      "include_colab_link": true
    }
  },
  "nbformat": 4,
  "nbformat_minor": 0
}